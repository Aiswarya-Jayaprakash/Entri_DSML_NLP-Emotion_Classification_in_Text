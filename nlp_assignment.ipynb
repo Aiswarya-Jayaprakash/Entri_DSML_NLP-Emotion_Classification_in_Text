{
 "cells": [
  {
   "cell_type": "code",
   "execution_count": 8,
   "id": "6c1fb0a7-6f4a-43ef-9380-9ff7ff355eb6",
   "metadata": {},
   "outputs": [
    {
     "data": {
      "text/html": [
       "<div>\n",
       "<style scoped>\n",
       "    .dataframe tbody tr th:only-of-type {\n",
       "        vertical-align: middle;\n",
       "    }\n",
       "\n",
       "    .dataframe tbody tr th {\n",
       "        vertical-align: top;\n",
       "    }\n",
       "\n",
       "    .dataframe thead th {\n",
       "        text-align: right;\n",
       "    }\n",
       "</style>\n",
       "<table border=\"1\" class=\"dataframe\">\n",
       "  <thead>\n",
       "    <tr style=\"text-align: right;\">\n",
       "      <th></th>\n",
       "      <th>Comment</th>\n",
       "      <th>Emotion</th>\n",
       "    </tr>\n",
       "  </thead>\n",
       "  <tbody>\n",
       "    <tr>\n",
       "      <th>0</th>\n",
       "      <td>i seriously hate one subject to death but now ...</td>\n",
       "      <td>fear</td>\n",
       "    </tr>\n",
       "    <tr>\n",
       "      <th>1</th>\n",
       "      <td>im so full of life i feel appalled</td>\n",
       "      <td>anger</td>\n",
       "    </tr>\n",
       "    <tr>\n",
       "      <th>2</th>\n",
       "      <td>i sit here to write i start to dig out my feel...</td>\n",
       "      <td>fear</td>\n",
       "    </tr>\n",
       "    <tr>\n",
       "      <th>3</th>\n",
       "      <td>ive been really angry with r and i feel like a...</td>\n",
       "      <td>joy</td>\n",
       "    </tr>\n",
       "    <tr>\n",
       "      <th>4</th>\n",
       "      <td>i feel suspicious if there is no one outside l...</td>\n",
       "      <td>fear</td>\n",
       "    </tr>\n",
       "  </tbody>\n",
       "</table>\n",
       "</div>"
      ],
      "text/plain": [
       "                                             Comment Emotion\n",
       "0  i seriously hate one subject to death but now ...    fear\n",
       "1                 im so full of life i feel appalled   anger\n",
       "2  i sit here to write i start to dig out my feel...    fear\n",
       "3  ive been really angry with r and i feel like a...     joy\n",
       "4  i feel suspicious if there is no one outside l...    fear"
      ]
     },
     "execution_count": 8,
     "metadata": {},
     "output_type": "execute_result"
    }
   ],
   "source": [
    "import warnings\n",
    "\n",
    "# Filter out all warnings\n",
    "warnings.filterwarnings('ignore')\n",
    "\n",
    "import pandas as pd\n",
    "df=pd.read_csv(\"E:\\\\ENTRI DSML\\\\DSML\\\\nlp_dataset.csv\")\n",
    "df.head()"
   ]
  },
  {
   "cell_type": "code",
   "execution_count": 9,
   "id": "f3f8c98f-07e3-4cff-9197-4c7fca91a96f",
   "metadata": {},
   "outputs": [
    {
     "name": "stdout",
     "output_type": "stream",
     "text": [
      "Shape: (5937, 2)\n",
      "Size: 11874\n",
      "Index(['Comment', 'Emotion'], dtype='object')\n",
      "                                                 Comment Emotion\n",
      "count                                               5937    5937\n",
      "unique                                              5934       3\n",
      "top     i feel like a tortured artist when i talk to her   anger\n",
      "freq                                                   2    2000\n",
      "Comment    0\n",
      "Emotion    0\n",
      "dtype: int64\n",
      "0\n"
     ]
    }
   ],
   "source": [
    "print(\"Shape:\", df.shape)\n",
    "print(\"Size:\",df.size)\n",
    "print(df.columns)\n",
    "print(df.describe(include='all'))\n",
    "print(df.isnull().sum())\n",
    "print(df.duplicated().sum())"
   ]
  },
  {
   "cell_type": "code",
   "execution_count": 10,
   "id": "f85c70e5-4b46-49d0-a704-e0b0cbbdbd6a",
   "metadata": {},
   "outputs": [
    {
     "data": {
      "text/html": [
       "<div>\n",
       "<style scoped>\n",
       "    .dataframe tbody tr th:only-of-type {\n",
       "        vertical-align: middle;\n",
       "    }\n",
       "\n",
       "    .dataframe tbody tr th {\n",
       "        vertical-align: top;\n",
       "    }\n",
       "\n",
       "    .dataframe thead th {\n",
       "        text-align: right;\n",
       "    }\n",
       "</style>\n",
       "<table border=\"1\" class=\"dataframe\">\n",
       "  <thead>\n",
       "    <tr style=\"text-align: right;\">\n",
       "      <th></th>\n",
       "      <th>Comment</th>\n",
       "      <th>Cleaned_Comment</th>\n",
       "    </tr>\n",
       "  </thead>\n",
       "  <tbody>\n",
       "    <tr>\n",
       "      <th>0</th>\n",
       "      <td>i seriously hate one subject to death but now ...</td>\n",
       "      <td>seriously hate one subject  death but now  fe...</td>\n",
       "    </tr>\n",
       "    <tr>\n",
       "      <th>1</th>\n",
       "      <td>im so full of life i feel appalled</td>\n",
       "      <td>full  life  feel appalled</td>\n",
       "    </tr>\n",
       "    <tr>\n",
       "      <th>2</th>\n",
       "      <td>i sit here to write i start to dig out my feel...</td>\n",
       "      <td>sit here  write  start  dig out  feelings and...</td>\n",
       "    </tr>\n",
       "    <tr>\n",
       "      <th>3</th>\n",
       "      <td>ive been really angry with r and i feel like a...</td>\n",
       "      <td>ive been really angry with  and  feel like  id...</td>\n",
       "    </tr>\n",
       "    <tr>\n",
       "      <th>4</th>\n",
       "      <td>i feel suspicious if there is no one outside l...</td>\n",
       "      <td>feel suspicious  there   one outside like the...</td>\n",
       "    </tr>\n",
       "    <tr>\n",
       "      <th>...</th>\n",
       "      <td>...</td>\n",
       "      <td>...</td>\n",
       "    </tr>\n",
       "    <tr>\n",
       "      <th>5932</th>\n",
       "      <td>i begun to feel distressed for you</td>\n",
       "      <td>begun  feel distressed for you</td>\n",
       "    </tr>\n",
       "    <tr>\n",
       "      <th>5933</th>\n",
       "      <td>i left feeling annoyed and angry thinking that...</td>\n",
       "      <td>left feeling annoyed and angry thinking that ...</td>\n",
       "    </tr>\n",
       "    <tr>\n",
       "      <th>5934</th>\n",
       "      <td>i were to ever get married i d have everything...</td>\n",
       "      <td>were  ever get married   have everything read...</td>\n",
       "    </tr>\n",
       "    <tr>\n",
       "      <th>5935</th>\n",
       "      <td>i feel reluctant in applying there because i w...</td>\n",
       "      <td>feel reluctant  applying there because  want ...</td>\n",
       "    </tr>\n",
       "    <tr>\n",
       "      <th>5936</th>\n",
       "      <td>i just wanted to apologize to you because i fe...</td>\n",
       "      <td>just wanted  apologize  you because  feel lik...</td>\n",
       "    </tr>\n",
       "  </tbody>\n",
       "</table>\n",
       "<p>5937 rows × 2 columns</p>\n",
       "</div>"
      ],
      "text/plain": [
       "                                                Comment  \\\n",
       "0     i seriously hate one subject to death but now ...   \n",
       "1                    im so full of life i feel appalled   \n",
       "2     i sit here to write i start to dig out my feel...   \n",
       "3     ive been really angry with r and i feel like a...   \n",
       "4     i feel suspicious if there is no one outside l...   \n",
       "...                                                 ...   \n",
       "5932                 i begun to feel distressed for you   \n",
       "5933  i left feeling annoyed and angry thinking that...   \n",
       "5934  i were to ever get married i d have everything...   \n",
       "5935  i feel reluctant in applying there because i w...   \n",
       "5936  i just wanted to apologize to you because i fe...   \n",
       "\n",
       "                                        Cleaned_Comment  \n",
       "0      seriously hate one subject  death but now  fe...  \n",
       "1                             full  life  feel appalled  \n",
       "2      sit here  write  start  dig out  feelings and...  \n",
       "3     ive been really angry with  and  feel like  id...  \n",
       "4      feel suspicious  there   one outside like the...  \n",
       "...                                                 ...  \n",
       "5932                     begun  feel distressed for you  \n",
       "5933   left feeling annoyed and angry thinking that ...  \n",
       "5934   were  ever get married   have everything read...  \n",
       "5935   feel reluctant  applying there because  want ...  \n",
       "5936   just wanted  apologize  you because  feel lik...  \n",
       "\n",
       "[5937 rows x 2 columns]"
      ]
     },
     "execution_count": 10,
     "metadata": {},
     "output_type": "execute_result"
    }
   ],
   "source": [
    "import pandas as pd\n",
    "import re\n",
    "from nltk.corpus import stopwords\n",
    "from nltk.tokenize import word_tokenize\n",
    "import nltk\n",
    "\n",
    "# Text cleaning function\n",
    "def clean_text(text):\n",
    "    text = text.lower() \n",
    "    text = re.sub(r'\\b\\w{1,2}\\b', '', text)  \n",
    "    text = re.sub(r'[^\\w\\s]', '', text)     \n",
    "    return text\n",
    "    \n",
    "# Apply text cleaning\n",
    "df['Cleaned_Comment'] = df['Comment'].apply(clean_text)\n",
    "\n",
    "# Display the cleaned comments\n",
    "df[['Comment', 'Cleaned_Comment']]"
   ]
  },
  {
   "cell_type": "code",
   "execution_count": 11,
   "id": "2d648a90-98be-41d1-abda-8d2dcede60b7",
   "metadata": {},
   "outputs": [
    {
     "data": {
      "text/plain": [
       "0       seriously hate one subject death feel reluctan...\n",
       "1                                 full life feel appalled\n",
       "2       sit write start dig feelings think afraid acce...\n",
       "3       ive really angry feel like idiot trusting firs...\n",
       "4       feel suspicious one outside like rapture happe...\n",
       "                              ...                        \n",
       "5932                                begun feel distressed\n",
       "5933    left feeling annoyed angry thinking center stu...\n",
       "5934    ever get married everything ready offer got to...\n",
       "5935    feel reluctant applying want able find company...\n",
       "5936           wanted apologize feel like heartless bitch\n",
       "Name: Processed_Comment, Length: 5937, dtype: object"
      ]
     },
     "execution_count": 11,
     "metadata": {},
     "output_type": "execute_result"
    }
   ],
   "source": [
    "# Tokenization and stopword removal\n",
    "stop_words = set(stopwords.words('english'))\n",
    "def tokenize_and_remove_stopwords(text):\n",
    "    tokens = word_tokenize(text)\n",
    "    tokens = [word for word in tokens if word not in stop_words]\n",
    "    return ' '.join(tokens)\n",
    "df['Processed_Comment'] = df['Cleaned_Comment'].apply(tokenize_and_remove_stopwords)\n",
    "df['Processed_Comment'] "
   ]
  },
  {
   "cell_type": "code",
   "execution_count": 12,
   "id": "a445b78d-4259-41cd-868a-075d82bdfadf",
   "metadata": {},
   "outputs": [
    {
     "name": "stdout",
     "output_type": "stream",
     "text": [
      "\n",
      "Vocabulary for TF-IDF:\n",
      "['aac' 'aaron' 'abandon' ... 'zone' 'zonisamide' 'zumba']\n",
      "\n",
      "TF-IDF matrix:\n",
      "[[0. 0. 0. ... 0. 0. 0.]\n",
      " [0. 0. 0. ... 0. 0. 0.]\n",
      " [0. 0. 0. ... 0. 0. 0.]\n",
      " ...\n",
      " [0. 0. 0. ... 0. 0. 0.]\n",
      " [0. 0. 0. ... 0. 0. 0.]\n",
      " [0. 0. 0. ... 0. 0. 0.]]\n"
     ]
    }
   ],
   "source": [
    "#Feature Extraction\n",
    "from sklearn.feature_extraction.text import TfidfVectorizer\n",
    "\n",
    "tfidf_vectorizer = TfidfVectorizer()\n",
    "tfidf_matrix = tfidf_vectorizer.fit_transform(df['Processed_Comment'])\n",
    "\n",
    "# Vocabulary for reference\n",
    "\n",
    "print(\"\\nVocabulary for TF-IDF:\")\n",
    "print(tfidf_vectorizer.get_feature_names_out())\n",
    "\n",
    "# Print TF-IDF matrices\n",
    "print(\"\\nTF-IDF matrix:\")\n",
    "print(tfidf_matrix.toarray())\n"
   ]
  },
  {
   "cell_type": "code",
   "execution_count": 15,
   "id": "246abb4e-0dd7-4175-9946-63e5e870210a",
   "metadata": {},
   "outputs": [
    {
     "name": "stdout",
     "output_type": "stream",
     "text": [
      "\n",
      "Naive Bayes Model Accuracy: 0.9048821548821548\n",
      "Classification Report for Naive Bayes:\n",
      "               precision    recall  f1-score   support\n",
      "\n",
      "       anger       0.87      0.95      0.91       392\n",
      "        fear       0.92      0.89      0.91       416\n",
      "         joy       0.92      0.88      0.90       380\n",
      "\n",
      "    accuracy                           0.90      1188\n",
      "   macro avg       0.91      0.90      0.90      1188\n",
      "weighted avg       0.91      0.90      0.90      1188\n",
      "\n"
     ]
    }
   ],
   "source": [
    "from sklearn.model_selection import train_test_split\n",
    "from sklearn.naive_bayes import MultinomialNB\n",
    "from sklearn.metrics import accuracy_score, classification_report\n",
    "\n",
    "# Split the dataset into training and testing sets (80% training, 20% testing)\n",
    "X_train, X_test, y_train, y_test = train_test_split(X, y, test_size=0.2, random_state=42)\n",
    "\n",
    "# Train the Naive Bayes classifier\n",
    "nb_classifier = MultinomialNB()\n",
    "nb_classifier.fit(X_train, y_train)\n",
    "\n",
    "# Predict on the test set\n",
    "y_pred_nb = nb_classifier.predict(X_test)\n",
    "\n",
    "# Calculate accuracy and classification report for Naive Bayes\n",
    "nb_accuracy = accuracy_score(y_test, y_pred_nb)\n",
    "print(\"\\nNaive Bayes Model Accuracy:\", nb_accuracy)\n",
    "print(\"Classification Report for Naive Bayes:\\n\", classification_report(y_test, y_pred_nb))"
   ]
  },
  {
   "cell_type": "code",
   "execution_count": 16,
   "id": "bd6d3bd5-0393-4ba9-9f7f-e3b9a891cfd7",
   "metadata": {},
   "outputs": [
    {
     "name": "stdout",
     "output_type": "stream",
     "text": [
      "\n",
      "SVM Model Accuracy: 0.9393939393939394\n",
      "Classification Report for SVM:\n",
      "               precision    recall  f1-score   support\n",
      "\n",
      "       anger       0.92      0.94      0.93       392\n",
      "        fear       0.97      0.92      0.94       416\n",
      "         joy       0.93      0.96      0.94       380\n",
      "\n",
      "    accuracy                           0.94      1188\n",
      "   macro avg       0.94      0.94      0.94      1188\n",
      "weighted avg       0.94      0.94      0.94      1188\n",
      "\n"
     ]
    }
   ],
   "source": [
    "# Import SVM model\n",
    "from sklearn.svm import SVC\n",
    "\n",
    "# Train the SVM classifier\n",
    "svm_classifier = SVC(kernel='linear')\n",
    "svm_classifier.fit(X_train, y_train)\n",
    "\n",
    "# Predict on the test set\n",
    "y_pred_svm = svm_classifier.predict(X_test)\n",
    "\n",
    "# Calculate accuracy and classification report for SVM\n",
    "svm_accuracy = accuracy_score(y_test, y_pred_svm)\n",
    "print(\"\\nSVM Model Accuracy:\", svm_accuracy)\n",
    "print(\"Classification Report for SVM:\\n\", classification_report(y_test, y_pred_svm))"
   ]
  },
  {
   "cell_type": "code",
   "execution_count": 18,
   "id": "6bbb7680-b791-47a7-98df-ed46fe08aa1a",
   "metadata": {},
   "outputs": [
    {
     "name": "stdout",
     "output_type": "stream",
     "text": [
      "\n",
      "Model Comparison:\n",
      "Naive Bayes Accuracy: 0.9049\n",
      "SVM Accuracy: 0.9394\n",
      "\n",
      "Based on the classification reports, compare precision, recall, and F1-scores to determine the better performing model for emotion classification.\n"
     ]
    }
   ],
   "source": [
    "# Display the model comparison\n",
    "print(\"\\nModel Comparison:\")\n",
    "\n",
    "# Print the accuracy of both models\n",
    "print(f\"Naive Bayes Accuracy: {nb_accuracy:.4f}\")\n",
    "print(f\"SVM Accuracy: {svm_accuracy:.4f}\")\n",
    "\n",
    "# Compare F1-Scores from the classification reports\n",
    "print(\"\\nBased on the classification reports, compare precision, recall, and F1-scores to determine the better performing model for emotion classification.\")"
   ]
  },
  {
   "cell_type": "code",
   "execution_count": 19,
   "id": "da2d401b-bc21-4111-b1d9-dbc9cfed31bb",
   "metadata": {},
   "outputs": [
    {
     "name": "stdout",
     "output_type": "stream",
     "text": [
      "Naive Bayes - Accuracy: 0.9048821548821548, F1-Score: 0.9047784694869365, Precision: 0.9062908560138424, Recall: 0.9048821548821548\n",
      "SVM - Accuracy: 0.9393939393939394, F1-Score: 0.939438003326165, Precision: 0.940085210122097, Recall: 0.9393939393939394\n"
     ]
    }
   ],
   "source": [
    "from sklearn.metrics import accuracy_score, f1_score, precision_score, recall_score\n",
    "# Evaluate Naive Bayes\n",
    "nb_accuracy = accuracy_score(y_test, y_pred_nb)\n",
    "nb_f1 = f1_score(y_test, y_pred_nb, average='weighted')\n",
    "nb_precision = precision_score(y_test, y_pred_nb, average='weighted')\n",
    "nb_recall = recall_score(y_test, y_pred_nb, average='weighted')\n",
    "# Evaluate SVM\n",
    "svm_accuracy = accuracy_score(y_test, y_pred_svm)\n",
    "svm_f1 = f1_score(y_test, y_pred_svm, average='weighted')\n",
    "svm_precision = precision_score(y_test, y_pred_svm, average='weighted')\n",
    "svm_recall = recall_score(y_test, y_pred_svm, average='weighted')\n",
    "# Print results\n",
    "print(f\"Naive Bayes - Accuracy: {nb_accuracy}, F1-Score: {nb_f1}, Precision: {nb_precision}, Recall: {nb_recall}\")\n",
    "print(f\"SVM - Accuracy: {svm_accuracy}, F1-Score: {svm_f1}, Precision: {svm_precision}, Recall: {svm_recall}\")"
   ]
  },
  {
   "cell_type": "code",
   "execution_count": null,
   "id": "a2cfe36e-4c27-4a4b-a673-2686589097d7",
   "metadata": {},
   "outputs": [],
   "source": []
  }
 ],
 "metadata": {
  "kernelspec": {
   "display_name": "Python 3 (ipykernel)",
   "language": "python",
   "name": "python3"
  },
  "language_info": {
   "codemirror_mode": {
    "name": "ipython",
    "version": 3
   },
   "file_extension": ".py",
   "mimetype": "text/x-python",
   "name": "python",
   "nbconvert_exporter": "python",
   "pygments_lexer": "ipython3",
   "version": "3.11.7"
  }
 },
 "nbformat": 4,
 "nbformat_minor": 5
}
